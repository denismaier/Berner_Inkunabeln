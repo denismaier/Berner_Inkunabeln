{
 "cells": [
  {
   "cell_type": "code",
   "execution_count": 1,
   "metadata": {},
   "outputs": [],
   "source": [
    "from platform import python_version\n",
    "import os\n",
    "from collections import defaultdict\n",
    "\n",
    "import pandas as pd\n",
    "import jinja2\n",
    "from jinja2 import Template\n",
    "import regex as re"
   ]
  },
  {
   "cell_type": "code",
   "execution_count": 2,
   "metadata": {},
   "outputs": [
    {
     "name": "stdout",
     "output_type": "stream",
     "text": [
      "Python version: 3.7.11\n",
      "Pandas version: 1.3.5\n",
      "Jinja2 version: 3.0.2\n",
      "Regex version: 2.5.114\n"
     ]
    }
   ],
   "source": [
    "print(\"Python version: \" + python_version())\n",
    "print(\"Pandas version: \" + pd.__version__)\n",
    "print(\"Jinja2 version: \" + jinja2.__version__)\n",
    "print(\"Regex version: \" + re.__version__)"
   ]
  },
  {
   "cell_type": "code",
   "execution_count": null,
   "metadata": {},
   "outputs": [],
   "source": [
    "# Pfad zum Ordner, in dem sich die nachbearbeiteten Inkunabeldatensätze befinden\n",
    "data_path = r\"...\""
   ]
  },
  {
   "cell_type": "code",
   "execution_count": null,
   "metadata": {},
   "outputs": [],
   "source": [
    "# Pfad zum Ordner, in dem das mit diesem Script erstellte xml-Dokument abgelegt werden soll\n",
    "output_path = r\"...\""
   ]
  },
  {
   "cell_type": "code",
   "execution_count": null,
   "metadata": {},
   "outputs": [],
   "source": [
    "people_all_data = []\n",
    "reference_all_data = []\n",
    "\n",
    "for item in os.listdir(data_path):\n",
    "    with open(data_path + item, \"r\", encoding='utf8') as file:\n",
    "        lines = file.read()\n",
    "\n",
    "        reg_1_recognition_start = \"<-REGISTER-1-START->\\n\"\n",
    "        reg_1_recognition_stop = \"<-REGISTER-1-STOP->\\n\"\n",
    "        reg_1_content_start = lines.find(reg_1_recognition_start)\n",
    "        reg_1_content_stop = lines.find(reg_1_recognition_stop)\n",
    "        reg_1_content_range = lines[reg_1_content_start + len(reg_1_recognition_start) : reg_1_content_stop]\n",
    "        reg_1_content = re.findall(\"<-P-START->(.*?)<-P-STOP->\", reg_1_content_range)\n",
    "\n",
    "        reference_recognition_start = \"<-REGISTER-REF-START->\\n\"\n",
    "        reference_recognition_stop = \"<-REGISTER-REF-STOP->\\n\"\n",
    "        reference_content_start = lines.find(reference_recognition_start)\n",
    "        reference_content_stop = lines.find(reference_recognition_stop)\n",
    "        reference_content_range = lines[reference_content_start + len(reference_recognition_start) : reference_content_stop]\n",
    "        reference_doi = re.findall(\"<-DOI-START->(.*?)<-DOI-STOP->\", reference_content_range)[0]\n",
    "        reference_number = re.findall(\"<-Nr-START->(.*?)<-Nr-STOP->\", reference_content_range)[0]\n",
    "        reference_signature = re.findall(\"<-SIGN-START->(.*?)<-SIGN-STOP->\", reference_content_range)[0]\n",
    "    \n",
    "    people_all_data.append(reg_1_content)\n",
    "    \n",
    "    references = [reference_doi, reference_number, reference_signature]\n",
    "    reference_all_data.append(references)"
   ]
  },
  {
   "cell_type": "code",
   "execution_count": null,
   "metadata": {},
   "outputs": [],
   "source": [
    "filedict = defaultdict(list)"
   ]
  },
  {
   "cell_type": "code",
   "execution_count": null,
   "metadata": {},
   "outputs": [],
   "source": [
    "for index, author in enumerate(people_all_data):\n",
    "    for item in author:\n",
    "        if reference_all_data[index] not in filedict[item]:\n",
    "            filedict[item].append(reference_all_data[index])"
   ]
  },
  {
   "cell_type": "code",
   "execution_count": null,
   "metadata": {},
   "outputs": [],
   "source": [
    "sorted_dict = sorted(filedict.items())"
   ]
  },
  {
   "cell_type": "code",
   "execution_count": null,
   "metadata": {},
   "outputs": [],
   "source": [
    "filedict_sorted = dict(sorted_dict)"
   ]
  },
  {
   "cell_type": "markdown",
   "metadata": {},
   "source": [
    "---"
   ]
  },
  {
   "cell_type": "code",
   "execution_count": null,
   "metadata": {},
   "outputs": [],
   "source": [
    "path_excelfile = \"Vorgaben_Registersortierung/\""
   ]
  },
  {
   "cell_type": "code",
   "execution_count": null,
   "metadata": {},
   "outputs": [],
   "source": [
    "excelfile = \"Register_1_Wunschsortierung.xlsx\" "
   ]
  },
  {
   "cell_type": "code",
   "execution_count": null,
   "metadata": {},
   "outputs": [],
   "source": [
    "df_sortierliste = pd.read_excel(path_excelfile + excelfile, header=None, names=[\"authors\"])"
   ]
  },
  {
   "cell_type": "code",
   "execution_count": null,
   "metadata": {},
   "outputs": [],
   "source": [
    "index_sorted = df_sortierliste[\"authors\"].to_list()\n",
    "len(index_sorted)"
   ]
  },
  {
   "cell_type": "code",
   "execution_count": null,
   "metadata": {},
   "outputs": [],
   "source": [
    "index_unsorted = list(filedict_sorted.keys())\n",
    "len(index_unsorted)"
   ]
  },
  {
   "cell_type": "code",
   "execution_count": null,
   "metadata": {},
   "outputs": [],
   "source": [
    "l_drin = []\n",
    "l_nichtdrin = []\n",
    "\n",
    "for item in index_unsorted:\n",
    "    if item in index_sorted:\n",
    "        l_drin.append(item)\n",
    "    else:\n",
    "        l_nichtdrin.append(item)"
   ]
  },
  {
   "cell_type": "code",
   "execution_count": null,
   "metadata": {},
   "outputs": [],
   "source": [
    "len(l_drin)"
   ]
  },
  {
   "cell_type": "code",
   "execution_count": null,
   "metadata": {},
   "outputs": [],
   "source": [
    "len(l_nichtdrin)"
   ]
  },
  {
   "cell_type": "code",
   "execution_count": null,
   "metadata": {},
   "outputs": [],
   "source": [
    "auth_dict_custom_sorted = {k: filedict_sorted[k] for k in index_sorted if k in filedict_sorted}"
   ]
  },
  {
   "cell_type": "code",
   "execution_count": null,
   "metadata": {},
   "outputs": [],
   "source": [
    "template = '''<?xml version=\"1.0\" encoding=\"UTF-8\"?>\n",
    "<!DOCTYPE book-part-wrapper PUBLIC \"-//NLM//DTD BITS Book Interchange DTD v2.1 20220202//EN\" \"BITS-book2-1.dtd\">\n",
    "<book-part-wrapper dtd-version=\"2.1\" xmlns:xlink=\"http://www.w3.org/1999/xlink\"\n",
    "  xmlns:mml=\"http://www.w3.org/1998/Math/MathML\" xml:lang=\"de\">\n",
    "    <book-meta>\n",
    "        <book-title-group>\n",
    "          <book-title>Die Inkunabeln in der Universitätsbibliothek Bern</book-title>\n",
    "        </book-title-group>\n",
    "        <contrib-group>\n",
    "          <contrib>\n",
    "            <name>\n",
    "              <surname>Bürger</surname>\n",
    "              <given-names>Ulrike</given-names>\n",
    "            </name>\n",
    "            <role>Redaktionelle Mitarbeit</role>\n",
    "          </contrib> \n",
    "          <contrib>\n",
    "            <name>\n",
    "              <surname>Fricke</surname>\n",
    "              <given-names>Fabian</given-names>\n",
    "            </name>\n",
    "            <role>Mitarbeit an der Herausgabe</role>\n",
    "          </contrib>  \n",
    "          <contrib>\n",
    "            <name>\n",
    "              <surname>Hanschke</surname>\n",
    "              <given-names>Petra</given-names>\n",
    "            </name>\n",
    "            <role>Mitarbeit an der Herausgabe</role>\n",
    "          </contrib>   \n",
    "          <contrib>\n",
    "            <name>\n",
    "              <surname>Hartmann</surname>\n",
    "              <given-names>Volker</given-names>\n",
    "            </name>\n",
    "            <role>Mitarbeit an der Herausgabe</role>\n",
    "          </contrib>\n",
    "          <contrib>\n",
    "            <name>\n",
    "              <surname>Horn</surname>\n",
    "              <given-names>Michael</given-names>\n",
    "            </name>\n",
    "            <role>Projektkoordination, technische Umsetzung, redaktionelle Mitarbeit</role>\n",
    "          </contrib>\n",
    "          <contrib>\n",
    "            <name>\n",
    "              <surname>Jolidon</surname>\n",
    "              <given-names>Anne</given-names>\n",
    "            </name>\n",
    "            <role>Mitarbeit an der Herausgabe</role>\n",
    "          </contrib>\n",
    "          <contrib>\n",
    "            <name>\n",
    "              <surname>Matter</surname>\n",
    "              <given-names>Stefan</given-names>\n",
    "            </name>\n",
    "            <role>Redaktionelle Mitarbeit</role>\n",
    "          </contrib>\n",
    "          <contrib>\n",
    "            <name>\n",
    "              <surname>Meier</surname>\n",
    "              <given-names>Denis</given-names>\n",
    "            </name>\n",
    "            <role>Mitarbeit technische Umsetzung</role>\n",
    "          </contrib>\n",
    "          <contrib>\n",
    "            <name>\n",
    "              <surname>Pellin</surname>\n",
    "              <given-names>Elio</given-names>\n",
    "            </name>\n",
    "            <role>Mitarbeit technische Umsetzung</role>\n",
    "          </contrib>\n",
    "          <contrib>\n",
    "            <name>\n",
    "              <surname>Schlüter</surname>\n",
    "              <given-names>Sabine</given-names>\n",
    "            </name>\n",
    "            <role>Herausgeberin</role>\n",
    "          </contrib>\n",
    "          <contrib>\n",
    "            <name>\n",
    "              <surname>Stocker</surname>\n",
    "              <given-names>Mathias</given-names>\n",
    "            </name>\n",
    "            <role>Mitarbeit technische Umsetzung</role>\n",
    "          </contrib>\n",
    "          <contrib>\n",
    "            <name>\n",
    "              <surname>Stutzmann</surname>\n",
    "              <given-names>Jan</given-names>\n",
    "            </name>\n",
    "            <role>Mitarbeit technische Umsetzung</role>\n",
    "          </contrib>\n",
    "        </contrib-group>\n",
    "        <pub-date>\n",
    "          <year>2023</year>\n",
    "        </pub-date>\n",
    "        <isbn>978-3-03917-072-2</isbn>\n",
    "        <publisher>\n",
    "          <publisher-name>Bern Open Publishing</publisher-name>\n",
    "          <publisher-loc>Bern</publisher-loc>\n",
    "        </publisher>\n",
    "        <edition>1</edition>\n",
    "        <kwd-group>\n",
    "          <kwd></kwd>\n",
    "        </kwd-group>\n",
    "    </book-meta>\n",
    "    <index>\n",
    "      <index-title-group>\n",
    "        <title>Autorinnen und Autoren, Herausgeber, Übersetzer, Illustratoren</title>\n",
    "      </index-title-group>  \n",
    "    {% for key, value in author_reference_dict.items() %}\n",
    "      <index-entry>\n",
    "        <term>{{key}}</term>\n",
    "          <nav-pointer-group>\n",
    "            {% for element in value %}\n",
    "              <nav-pointer>\n",
    "                <ext-link ext-link-type=\"doi\" xlink:href=\"{{element[0]}}\">{{element[1]}}</ext-link>\n",
    "              </nav-pointer>\n",
    "            {% endfor%}\n",
    "          </nav-pointer-group>\n",
    "      </index-entry> \n",
    "    {% endfor %}   \n",
    "    </index>\n",
    "</book-part-wrapper>\n",
    "'''"
   ]
  },
  {
   "cell_type": "code",
   "execution_count": null,
   "metadata": {},
   "outputs": [],
   "source": [
    "data = {\n",
    "    \"author_reference_dict\" : auth_dict_custom_sorted\n",
    "}"
   ]
  },
  {
   "cell_type": "code",
   "execution_count": null,
   "metadata": {},
   "outputs": [],
   "source": [
    "t = Template(template, trim_blocks=True, lstrip_blocks=True)\n",
    "bits = t.render(data)"
   ]
  },
  {
   "cell_type": "code",
   "execution_count": null,
   "metadata": {},
   "outputs": [],
   "source": [
    "with open(output_path + \"Register_1_sortiert.xml\", 'w', encoding='utf8') as file:\n",
    "    file.write(bits)"
   ]
  }
 ],
 "metadata": {
  "kernelspec": {
   "display_name": "Python 3 (ipykernel)",
   "language": "python",
   "name": "python3"
  },
  "language_info": {
   "codemirror_mode": {
    "name": "ipython",
    "version": 3
   },
   "file_extension": ".py",
   "mimetype": "text/x-python",
   "name": "python",
   "nbconvert_exporter": "python",
   "pygments_lexer": "ipython3",
   "version": "3.7.11"
  }
 },
 "nbformat": 4,
 "nbformat_minor": 4
}
