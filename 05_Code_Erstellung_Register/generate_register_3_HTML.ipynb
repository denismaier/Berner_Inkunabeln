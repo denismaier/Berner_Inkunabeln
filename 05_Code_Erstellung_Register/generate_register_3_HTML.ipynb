{
 "cells": [
  {
   "cell_type": "code",
   "execution_count": 1,
   "metadata": {},
   "outputs": [],
   "source": [
    "from platform import python_version\n",
    "import os\n",
    "import ast\n",
    "from collections import defaultdict\n",
    "\n",
    "import pandas as pd\n",
    "import jinja2\n",
    "from jinja2 import Template\n",
    "import regex as re"
   ]
  },
  {
   "cell_type": "code",
   "execution_count": 2,
   "metadata": {},
   "outputs": [
    {
     "name": "stdout",
     "output_type": "stream",
     "text": [
      "Python version: 3.7.11\n",
      "Pandas version: 1.3.5\n",
      "Jinja2 version: 3.0.2\n",
      "Regex version: 2.5.114\n"
     ]
    }
   ],
   "source": [
    "print(\"Python version: \" + python_version())\n",
    "print(\"Pandas version: \" + pd.__version__)\n",
    "print(\"Jinja2 version: \" + jinja2.__version__)\n",
    "print(\"Regex version: \" + re.__version__)"
   ]
  },
  {
   "cell_type": "code",
   "execution_count": null,
   "metadata": {},
   "outputs": [],
   "source": [
    "# Pfad zum Ordner, in dem sich die nachbearbeiteten Inkunabeldatensätze befinden\n",
    "data_path = r\"...\""
   ]
  },
  {
   "cell_type": "code",
   "execution_count": null,
   "metadata": {},
   "outputs": [],
   "source": [
    "# Pfad zum Ordner, in dem das mit diesem Script erstellte html-Dokument abgelegt werden soll\n",
    "output_path = r\"...\""
   ]
  },
  {
   "cell_type": "code",
   "execution_count": null,
   "metadata": {},
   "outputs": [],
   "source": [
    "people_all_data = []\n",
    "reference_all_data = []\n",
    "\n",
    "for item in os.listdir(data_path):\n",
    "\n",
    "    with open(data_path + item, \"r\", encoding='utf8') as file:\n",
    "        lines = file.read()\n",
    "\n",
    "        reg_3_recognition_start = \"<-REGISTER-3-START->\\n\"\n",
    "        reg_3_recognition_stop = \"<-REGISTER-3-STOP->\\n\"\n",
    "        reg_3_content_start = lines.find(reg_3_recognition_start)\n",
    "        reg_3_content_stop = lines.find(reg_3_recognition_stop)\n",
    "        reg_3_content_range = lines[reg_3_content_start + len(reg_3_recognition_start) : reg_3_content_stop]\n",
    "        reg_3_content = re.findall(\"<-P-START->(.*?)<-P-STOP->\", reg_3_content_range)\n",
    "\n",
    "        reference_recognition_start = \"<-REGISTER-REF-START->\\n\"\n",
    "        reference_recognition_stop = \"<-REGISTER-REF-STOP->\\n\"\n",
    "        reference_content_start = lines.find(reference_recognition_start)\n",
    "        reference_content_stop = lines.find(reference_recognition_stop)\n",
    "        reference_content_range = lines[reference_content_start + len(reference_recognition_start) : reference_content_stop]\n",
    "        reference_doi = re.findall(\"<-DOI-START->(.*?)<-DOI-STOP->\", reference_content_range)[0]\n",
    "        reference_number = re.findall(\"<-Nr-START->(.*?)<-Nr-STOP->\", reference_content_range)[0]\n",
    "        reference_signature = re.findall(\"<-SIGN-START->(.*?)<-SIGN-STOP->\", reference_content_range)[0]\n",
    "\n",
    "    people_all_data.append(reg_3_content)\n",
    "    references = [reference_doi, reference_number, reference_signature]\n",
    "    #html_ref_raw = item[:-4] + \".html\"\n",
    "    #html_ref = html_ref_raw.replace(\"(\",\"\").replace(\")\",\"\").replace(\"<<\",\"\").replace(\">>\",\"\").replace(\" \",\"_\").replace(\"&\",\"\").replace(\"'\", \"\")\n",
    "    #references = [html_ref, reference_number, reference_signature]\n",
    "    \n",
    "    reference_all_data.append(references)\n"
   ]
  },
  {
   "cell_type": "code",
   "execution_count": null,
   "metadata": {},
   "outputs": [],
   "source": [
    "filedict = defaultdict(list)"
   ]
  },
  {
   "cell_type": "code",
   "execution_count": null,
   "metadata": {},
   "outputs": [],
   "source": [
    "for index, author in enumerate(people_all_data):\n",
    "    for item in author:\n",
    "        if reference_all_data[index] not in filedict[item]:\n",
    "            filedict[item].append(reference_all_data[index])"
   ]
  },
  {
   "cell_type": "code",
   "execution_count": null,
   "metadata": {},
   "outputs": [],
   "source": [
    "sorted_dict = sorted(filedict.items())"
   ]
  },
  {
   "cell_type": "code",
   "execution_count": null,
   "metadata": {},
   "outputs": [],
   "source": [
    "filedict_sorted = dict(sorted_dict)"
   ]
  },
  {
   "cell_type": "code",
   "execution_count": null,
   "metadata": {},
   "outputs": [],
   "source": [
    "template = '''\n",
    "<!DOCTYPE HTML>\n",
    "<html>\n",
    "    <head>\n",
    "        <meta http-equiv=\"Content-Type\" content=\"text/html; charset=UTF-8\">\n",
    "        <title>Register 3</title>\n",
    "        <link rel=\"stylesheet\" type=\"text/css\" href=\"_galley.css\" media=\"screen\">\n",
    "    </head>\n",
    "    <body>\n",
    "        <div class=\"index\">\n",
    "            <h1 class=\"title\">Buchbinder</h1> \n",
    "            {% for key, value in author_reference_dict.items() %}\n",
    "            <div class=\"index-entry\">\n",
    "                <div class=\"index-entry-term\">{{key}}</div>\n",
    "                <div class=\"nav-pointer-group\">\n",
    "                    <span class=\"nav-pointer\">\n",
    "                        <span class=\"ext-ref\">\n",
    "                            {% for element in value %}\n",
    "                            <a href =\"{{element[0]}}\" target=\"_blank\">{{element[1]}}</a>{{ \",\" if not loop.last }}\n",
    "                            {% endfor%}\n",
    "                        </span>\n",
    "                    </span>\n",
    "                </div>\n",
    "             </div> \n",
    "             {% endfor%}\n",
    "        </div>\n",
    "    </body>\n",
    "</html>'''"
   ]
  },
  {
   "cell_type": "code",
   "execution_count": null,
   "metadata": {},
   "outputs": [],
   "source": [
    "data = {\n",
    "    \"author_reference_dict\" : filedict_sorted\n",
    "}"
   ]
  },
  {
   "cell_type": "code",
   "execution_count": null,
   "metadata": {},
   "outputs": [],
   "source": [
    "t = Template(template, trim_blocks=True, lstrip_blocks=True)\n",
    "bits = t.render(data)"
   ]
  },
  {
   "cell_type": "code",
   "execution_count": null,
   "metadata": {},
   "outputs": [],
   "source": [
    "with open(output_path + \"Register_3_sortiert.html\", 'w', encoding='utf8') as file:\n",
    "    file.write(bits)"
   ]
  },
  {
   "cell_type": "markdown",
   "metadata": {},
   "source": [
    "---"
   ]
  }
 ],
 "metadata": {
  "kernelspec": {
   "display_name": "Python 3 (ipykernel)",
   "language": "python",
   "name": "python3"
  },
  "language_info": {
   "codemirror_mode": {
    "name": "ipython",
    "version": 3
   },
   "file_extension": ".py",
   "mimetype": "text/x-python",
   "name": "python",
   "nbconvert_exporter": "python",
   "pygments_lexer": "ipython3",
   "version": "3.7.11"
  }
 },
 "nbformat": 4,
 "nbformat_minor": 4
}
