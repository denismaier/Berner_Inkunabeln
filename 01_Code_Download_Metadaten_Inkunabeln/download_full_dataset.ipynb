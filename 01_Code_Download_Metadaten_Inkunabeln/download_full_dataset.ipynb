{
 "cells": [
  {
   "cell_type": "code",
   "execution_count": 1,
   "id": "e86621ff",
   "metadata": {},
   "outputs": [],
   "source": [
    "from platform import python_version\n",
    "import os\n",
    "import time\n",
    "\n",
    "import pandas as pd\n",
    "import regex as re\n",
    "import bs4\n",
    "from bs4 import BeautifulSoup\n",
    "import urllib\n",
    "from urllib.request import urlopen"
   ]
  },
  {
   "cell_type": "code",
   "execution_count": 2,
   "id": "3a0248c1",
   "metadata": {},
   "outputs": [
    {
     "name": "stdout",
     "output_type": "stream",
     "text": [
      "Python version: 3.7.11\n",
      "pandas version: 1.3.5\n",
      "regex version: 2.5.114\n",
      "BeautifulSoup version: 4.10.0\n",
      "Urllib.request version: 3.7\n"
     ]
    }
   ],
   "source": [
    "print(\"Python version: \" + python_version())\n",
    "print(\"pandas version: \" + pd.__version__)\n",
    "print(\"regex version: \" + re.__version__)\n",
    "print(\"BeautifulSoup version: \" + bs4.__version__)\n",
    "print(\"Urllib.request version: \" + urllib.request.__version__)"
   ]
  },
  {
   "cell_type": "code",
   "execution_count": 3,
   "id": "664fd5f8",
   "metadata": {},
   "outputs": [],
   "source": [
    "filename = \"Inkunabeln_Network_Ids.xlsx\""
   ]
  },
  {
   "cell_type": "code",
   "execution_count": 4,
   "id": "f5014a6c",
   "metadata": {},
   "outputs": [],
   "source": [
    "df_network_id = pd.read_excel(filename)"
   ]
  },
  {
   "cell_type": "code",
   "execution_count": 5,
   "id": "2935e499",
   "metadata": {},
   "outputs": [],
   "source": [
    "identifier_list = df_network_id[\"Network Id\"].to_list()"
   ]
  },
  {
   "cell_type": "code",
   "execution_count": 6,
   "id": "4b15f2b1",
   "metadata": {},
   "outputs": [
    {
     "data": {
      "text/plain": [
       "461"
      ]
     },
     "execution_count": 6,
     "metadata": {},
     "output_type": "execute_result"
    }
   ],
   "source": [
    "len(identifier_list)"
   ]
  },
  {
   "cell_type": "code",
   "execution_count": null,
   "id": "7a48b586",
   "metadata": {},
   "outputs": [],
   "source": [
    "counter = 0\n",
    "\n",
    "for identifier in identifier_list:\n",
    "\n",
    "    try:\n",
    "        time.sleep(1.0)\n",
    "        url = \"https://swisscollections.ch/Record/\" + str(identifier)\n",
    "        html = urlopen(url).read()\n",
    "        soup = BeautifulSoup(html, features=\"html.parser\")\n",
    "        for script in soup([\"script\", \"style\"]):\n",
    "            script.extract()\n",
    "            text = soup.get_text()\n",
    "            start = text.find(\"LEADER\")\n",
    "            stop = text.find(\"Basisinformationen\")\n",
    "            extract = text[start:stop]\n",
    "            l = re.split(\"\\n\\n\\n\", extract)\n",
    "\n",
    "            new_l = []\n",
    "            for item in l:\n",
    "                ga = item.replace(\"\\n \\n\",\"   \")\n",
    "                gb = ga.replace(\"\\n\", \" \")\n",
    "                gc = gb.replace(\"\\xa0\", \" \")\n",
    "                new_l.append(gc)\n",
    "\n",
    "        with open(str(identifier) + \".txt\", 'w', encoding=\"utf8\") as f:\n",
    "            for element in new_l:\n",
    "                f.write(element)\n",
    "                f.write(\"\\n\")\n",
    "        \n",
    "    except:\n",
    "        print(\"Beim Datensatz \" + str(identifier) + \" hat etwas nicht geklappt.\")\n",
    "    \n",
    "    counter = counter + 1\n",
    "    \n",
    "    print(str(counter) + \". Datensatz bearbeitet.\")"
   ]
  },
  {
   "cell_type": "code",
   "execution_count": null,
   "id": "8a27eae7",
   "metadata": {},
   "outputs": [],
   "source": []
  },
  {
   "cell_type": "code",
   "execution_count": null,
   "id": "b60865be",
   "metadata": {},
   "outputs": [],
   "source": []
  }
 ],
 "metadata": {
  "kernelspec": {
   "display_name": "Python 3 (ipykernel)",
   "language": "python",
   "name": "python3"
  },
  "language_info": {
   "codemirror_mode": {
    "name": "ipython",
    "version": 3
   },
   "file_extension": ".py",
   "mimetype": "text/x-python",
   "name": "python",
   "nbconvert_exporter": "python",
   "pygments_lexer": "ipython3",
   "version": "3.7.11"
  }
 },
 "nbformat": 4,
 "nbformat_minor": 5
}
