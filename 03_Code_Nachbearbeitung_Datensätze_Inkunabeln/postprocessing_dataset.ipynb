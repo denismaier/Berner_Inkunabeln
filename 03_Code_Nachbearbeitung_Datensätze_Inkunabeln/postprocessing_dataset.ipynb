{
 "cells": [
  {
   "cell_type": "code",
   "execution_count": 1,
   "metadata": {},
   "outputs": [],
   "source": [
    "from platform import python_version\n",
    "import os\n",
    "\n",
    "import openpyxl\n",
    "from openpyxl import load_workbook\n",
    "import pandas as pd\n",
    "import regex as re\n",
    "import urllib"
   ]
  },
  {
   "cell_type": "code",
   "execution_count": 2,
   "metadata": {},
   "outputs": [
    {
     "name": "stdout",
     "output_type": "stream",
     "text": [
      "Python version: 3.7.11\n",
      "Openpyxl version: 3.0.10\n",
      "Pandas version: 1.3.5\n",
      "Regex version: 2.5.114\n",
      "Urllib version: 3.7\n"
     ]
    }
   ],
   "source": [
    "print(\"Python version: \" + python_version())\n",
    "print(\"Openpyxl version: \" + openpyxl.__version__)\n",
    "print(\"Pandas version: \" + pd.__version__)\n",
    "print(\"Regex version: \" + re.__version__)\n",
    "print(\"Urllib version: \" + urllib.request.__version__)"
   ]
  },
  {
   "cell_type": "code",
   "execution_count": 3,
   "metadata": {},
   "outputs": [],
   "source": [
    "data_path = r\"../10_Daten_Grundlage/\"\n",
    "path_legend = \"../11_Daten_Legenden/\""
   ]
  },
  {
   "cell_type": "code",
   "execution_count": 4,
   "metadata": {},
   "outputs": [],
   "source": [
    "# Pfad zum Ordner, in dem die mit diesem Script nachbearbeiteten Datensätze abgelegt werden sollen\n",
    "output_path = r\"data/\""
   ]
  },
  {
   "cell_type": "code",
   "execution_count": 5,
   "metadata": {},
   "outputs": [],
   "source": [
    "excelfile = \"information_id_img_leg.xlsx\""
   ]
  },
  {
   "cell_type": "code",
   "execution_count": 6,
   "metadata": {},
   "outputs": [],
   "source": [
    "df = pd.read_excel(excelfile, dtype={\"MMS-ID\": str})"
   ]
  },
  {
   "cell_type": "code",
   "execution_count": 7,
   "metadata": {},
   "outputs": [],
   "source": [
    "testliste = df[\"MMS-ID\"].to_list()"
   ]
  },
  {
   "cell_type": "code",
   "execution_count": 8,
   "metadata": {},
   "outputs": [],
   "source": [
    "dedub = []\n",
    "for item in testliste:\n",
    "    if item not in dedub:\n",
    "        dedub.append(item)\n",
    "    else:\n",
    "        pass"
   ]
  },
  {
   "cell_type": "code",
   "execution_count": 9,
   "metadata": {},
   "outputs": [],
   "source": [
    "dct_relevant_info = {k: g[\"Name Bild und Legende\"].tolist() for k,g in df.groupby(\"MMS-ID\")}"
   ]
  },
  {
   "cell_type": "code",
   "execution_count": 10,
   "metadata": {},
   "outputs": [],
   "source": [
    "for index, filename in enumerate(os.listdir(data_path)):\n",
    "    \n",
    "    with open(data_path + filename, \"r\", encoding='utf8') as file:\n",
    "        lines = file.read()\n",
    "\n",
    "        s_1_1 = \"<-1-1-START->\\n\"\n",
    "        st_reg = \"<-REGISTER-REF-STOP->\\n\"\n",
    "\n",
    "        m_orig_start = \"<-ORIGINAL-MARC-DATENSATZ-SWISSCOLLECTIONS-START->\\n\"\n",
    "        m_orig_stop = \"<-ORIGINAL-MARC-DATENSATZ-SWISSCOLLECTIONS-STOP->\\n\\n\"\n",
    "\n",
    "\n",
    "        start_1_1 = lines.find(s_1_1)\n",
    "        stop_inc_ref = lines.find(st_reg)\n",
    "\n",
    "        content = lines[start_1_1 : stop_inc_ref + len(st_reg)]\n",
    "\n",
    "        pattern = r'\"(.*?)\"'\n",
    "\n",
    "        def replace(match):\n",
    "            return f'«{match.group(1)}»'\n",
    "\n",
    "        content_with_guillemets = re.sub(pattern, replace, content)\n",
    "\n",
    "        marc_orig_start = lines.find(m_orig_start)\n",
    "        marc_orig_stop = lines.find(m_orig_stop)\n",
    "        marc_orig = lines[marc_orig_start : marc_orig_stop + len(m_orig_stop)]\n",
    "\n",
    "        l = content_with_guillemets.replace(\"->; <-VI-5-START->\", \"->; <-L-5-START-><-L-5-STOP-><-VI-5-START->\")\n",
    "        l2 = l.replace(\"<-5-1-START->\\n<-VI-5-START->\", \"<-5-1-START->\\n<-L-5-START-><-L-5-STOP-><-VI-5-START->\")\n",
    "        lines_with_number = l2.replace(\"<-Nr-START->LAUFNUMMER<-Nr-STOP->\", \"<-Nr-START->\" + str(index + 1) + \"<-Nr-STOP->\")\n",
    "\n",
    "    with open(output_path + filename, \"w+\", encoding='utf8') as file_output:\n",
    "        file_output.write(\"\\ufeff\")\n",
    "        file_output.write(lines_with_number) \n",
    "        file_output.write(\"\\n\\n\\n\")\n",
    "        file_output.write(marc_orig)\n",
    "        \n",
    "        if filename[-22:-4] in dct_relevant_info.keys():\n",
    "            value = dct_relevant_info[filename[-22:-4]]\n",
    "\n",
    "            file_output.write(\"\\n\")\n",
    "            file_output.write(\"<-BILDINFORMATIONEN-START->\\n\")\n",
    "            for index, val in enumerate(value):\n",
    "                val_url = urllib.parse.quote(val, safe='/', encoding=None, errors=None)\n",
    "                file_output.write(\"<-BILD-START->\" + str(val_url) + \".tif\" + \"<-BILD-STOP->\\n\")\n",
    "                with open(path_legend + str(val) + \".txt\", \"r\", encoding=\"utf8\") as legend_file:\n",
    "                    legend_lines = legend_file.read()\n",
    "                    th_l_1 = re.search(\"\\ufeff(.+?)\\n\\n\", legend_lines)\n",
    "                    th_l_2 = th_l_1.group(1)\n",
    "                file_output.write(\"<-LEGENDE-START->\" + str(th_l_2) + \"<-LEGENDE-STOP->\\n\")\n",
    "            file_output.write(\"<-BILDINFORMATIONEN-STOP->\\n\")\n",
    "        "
   ]
  },
  {
   "cell_type": "code",
   "execution_count": null,
   "metadata": {},
   "outputs": [],
   "source": []
  }
 ],
 "metadata": {
  "kernelspec": {
   "display_name": "Python 3 (ipykernel)",
   "language": "python",
   "name": "python3"
  },
  "language_info": {
   "codemirror_mode": {
    "name": "ipython",
    "version": 3
   },
   "file_extension": ".py",
   "mimetype": "text/x-python",
   "name": "python",
   "nbconvert_exporter": "python",
   "pygments_lexer": "ipython3",
   "version": "3.7.11"
  }
 },
 "nbformat": 4,
 "nbformat_minor": 4
}
